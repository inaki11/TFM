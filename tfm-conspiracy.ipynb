{
 "cells": [
  {
   "cell_type": "code",
   "execution_count": 1,
   "metadata": {
    "_cell_guid": "b1076dfc-b9ad-4769-8c92-a6c4dae69d19",
    "_uuid": "8f2839f25d086af736a60e9eeb907d3b93b6e0e5",
    "execution": {
     "iopub.execute_input": "2024-04-04T22:08:09.883027Z",
     "iopub.status.busy": "2024-04-04T22:08:09.882671Z",
     "iopub.status.idle": "2024-04-04T22:08:18.639334Z",
     "shell.execute_reply": "2024-04-04T22:08:18.638457Z",
     "shell.execute_reply.started": "2024-04-04T22:08:09.882996Z"
    }
   },
   "outputs": [],
   "source": [
    "import os\n",
    "os.environ[\"CUBLAS_WORKSPACE_CONFIG\"]=\":4096:8\"\n",
    "\n",
    "import numpy as np\n",
    "import pandas as pd \n",
    "import json\n",
    "\n",
    "import matplotlib.pyplot as plt\n",
    "from tqdm import tqdm\n",
    "\n",
    "import torch\n",
    "import torch.nn as nn\n",
    "from torch.utils.data import Dataset, DataLoader, WeightedRandomSampler\n",
    "from torch.optim import AdamW\n",
    "from torch.optim.lr_scheduler import ReduceLROnPlateau\n",
    "\n",
    "from transformers import BertTokenizer, get_linear_schedule_with_warmup\n",
    "\n",
    "from sklearn.model_selection import StratifiedShuffleSplit, StratifiedKFold\n",
    "from sklearn.metrics import matthews_corrcoef, confusion_matrix\n",
    "\n",
    "import random\n",
    "import wandb\n",
    "\n",
    "import sys\n",
    "sys.path.append('/home/inaki/host_data')\n",
    "import models\n",
    "from utils import train_loop, evaluate, evaluate_kfold_ensemble\n",
    "from CreateDataset import BertDataset, RobertaDataset"
   ]
  },
  {
   "cell_type": "code",
   "execution_count": 2,
   "metadata": {},
   "outputs": [
    {
     "name": "stdout",
     "output_type": "stream",
     "text": [
      "{\n",
      "  \"base_url\": \"/\",\n",
      "  \"hostname\": \"0.0.0.0\",\n",
      "  \"password\": false,\n",
      "  \"pid\": 1,\n",
      "  \"port\": 8888,\n",
      "  \"root_dir\": \"/home/inaki\",\n",
      "  \"secure\": false,\n",
      "  \"sock\": \"\",\n",
      "  \"token\": \"9066d3036084fc4bc65c2d9ccc7a04ed693f1b1097554d30\",\n",
      "  \"url\": \"http://cd06abb7cc92:8888/\",\n",
      "  \"version\": \"2.14.0\"\n",
      "}"
     ]
    }
   ],
   "source": [
    "!cat ~/.local/share/jupyter/runtime/jpserver-1.json\n",
    "# http://g2.etsisi.upm.es:8898/lab?token=9066d3036084fc4bc65c2d9ccc7a04ed693f1b1097554d30"
   ]
  },
  {
   "cell_type": "code",
   "execution_count": 3,
   "metadata": {},
   "outputs": [
    {
     "name": "stdout",
     "output_type": "stream",
     "text": [
      "Wed May 15 20:50:47 2024       \n",
      "+---------------------------------------------------------------------------------------+\n",
      "| NVIDIA-SMI 535.171.04             Driver Version: 535.171.04   CUDA Version: 12.2     |\n",
      "|-----------------------------------------+----------------------+----------------------+\n",
      "| GPU  Name                 Persistence-M | Bus-Id        Disp.A | Volatile Uncorr. ECC |\n",
      "| Fan  Temp   Perf          Pwr:Usage/Cap |         Memory-Usage | GPU-Util  Compute M. |\n",
      "|                                         |                      |               MIG M. |\n",
      "|=========================================+======================+======================|\n",
      "|   0  Quadro RTX 8000                Off | 00000000:37:00.0 Off |                  Off |\n",
      "| 34%   39C    P8              15W / 260W |      1MiB / 49152MiB |      0%      Default |\n",
      "|                                         |                      |                  N/A |\n",
      "+-----------------------------------------+----------------------+----------------------+\n",
      "|   1  Quadro RTX 8000                Off | 00000000:86:00.0 Off |                  Off |\n",
      "| 33%   38C    P8              10W / 260W |      1MiB / 49152MiB |      0%      Default |\n",
      "|                                         |                      |                  N/A |\n",
      "+-----------------------------------------+----------------------+----------------------+\n",
      "                                                                                         \n",
      "+---------------------------------------------------------------------------------------+\n",
      "| Processes:                                                                            |\n",
      "|  GPU   GI   CI        PID   Type   Process name                            GPU Memory |\n",
      "|        ID   ID                                                             Usage      |\n",
      "|=======================================================================================|\n",
      "|  No running processes found                                                           |\n",
      "+---------------------------------------------------------------------------------------+\n"
     ]
    }
   ],
   "source": [
    "!nvidia-smi"
   ]
  },
  {
   "cell_type": "code",
   "execution_count": 5,
   "metadata": {
    "execution": {
     "iopub.execute_input": "2024-04-04T22:08:18.659675Z",
     "iopub.status.busy": "2024-04-04T22:08:18.659387Z",
     "iopub.status.idle": "2024-04-04T22:08:18.666414Z",
     "shell.execute_reply": "2024-04-04T22:08:18.665390Z",
     "shell.execute_reply.started": "2024-04-04T22:08:18.659643Z"
    }
   },
   "outputs": [],
   "source": [
    "########################################\n",
    "#                Ideas                 #\n",
    "########################################\n",
    "\n",
    "# Data Augmentation\n",
    "\n",
    "    # Otros metodos \n",
    "        # Easy methods\n",
    "        #     Synonym Replacement  |  Random synonym Insertion   |   Random Swap   |    Random Deletion\n",
    "        # Albumentation (libreria)\n",
    "        # Libreria para muchos de estos métodos  -  NLPAug \n",
    "        \n",
    "\n",
    "    # Aumentado sobre embedding\n",
    "        # Añadir ruido gaussiano\n",
    "        # Ruido adversial\n",
    "        # MixUp  (mezclar embedding y su label en la proporcion dada por una funcion)\n",
    "        \n",
    "    # Consistency regularization ??\n",
    "    \n",
    "\n",
    "# TO DO tutorias\n",
    "    # LoRa  (Low rank adaptation)      -    https://medium.com/@karkar.nizar/fine-tuning-bert-for-text-classification-with-lora-f12af7fa95e4\n",
    "\n",
    "    # Probar Con modelos que ven masyusculas bert-base-cased y bert-large-cased\n",
    "\n",
    "    # Within-task and in-domain further pre-training can significantly boost its performance\n",
    "    \n",
    "    # Seleccionar los mejores en validation y hacer un ensemble con ellos y evaluar test (sobre enfoque baseline)\n",
    "\n",
    "    # k-fold contrastive\n",
    "\n",
    "    # Remplazo de sinonimos\n",
    "    \n",
    "    # Tecnicas basicas de data aumentacion\n",
    "        # Round Trip transltion (quizas guardar las traducciones)\n",
    "        # Ruido gaussiano\n",
    "\n",
    "    # Volver a probar aumentado de datos con llama3\n",
    "        \n",
    "    # Probar CLS en vez de Mean Pooling ?\n",
    "\n",
    "\n",
    "# Probar otros modelos\n",
    "    # XLNet\n",
    "    # RoBERTa\n",
    "    # Roberta covid    -   https://huggingface.co/sagteam/covid-twitter-xlm-roberta-large\n",
    "    # DeBERTa\n",
    "\n",
    "\n",
    "# ----------\n",
    "    # Analizar matriz de confusion sobre baseline\n",
    "    # Bert ajustado para mensajes de redes sociales (telegram)\n",
    "    # investigar Equilibrado transformers\n",
    "    \n",
    "# Recently DONE\n",
    "\n",
    "\n",
    "\n",
    "    \n",
    "# DONE\n",
    "    # implementar MixUp\n",
    "    # Probar MixUp\n",
    "\n",
    "    # Contrastive Loss\n",
    "        # Implementar yo el contrastive learning.  Probar con vectores muy sencillos a mano. revisar detach. cambiar a torch.\n",
    "        # Dividir entre numero de elementos en el batch ??\n",
    "        # Revisar formula paper y mirar mi codigo\n",
    "        # Ir aplicando a modo de prueba todos los pasos con un batch de vectores muy sencillos.\n",
    "        # Añado SWAP. SCL en dos fases, primero solo con contrastive loss y luego con BCE\n",
    "\n",
    "    # Añadir model.eval() en evaluate para que el dropout funcione adecuadamente en test\n",
    "    # devolver los logits y no la prediccion (y cambiar el BCE por el de logits)\n",
    "    # Añadir capa densa entre el bert y las neuronas de clasificacion\n",
    "\n",
    "\n",
    "\n",
    "    # Investigar *Supervised Contrastive learning \n",
    "    # Traduir dataset español y probar\n",
    "    # Aumentado de datos con llama3 \n",
    "\n",
    "    # Guardar modelos para probar forma de ensembles\n",
    "    # Baseline 10 folds sobre test, para tener 10 test como al probar 10 ensembles\n",
    "    # Plotear distribucion de errores\n",
    "    # implementar Predicciones 0, 1 o no lo se\n",
    "    # Matriz de confusion\n",
    "    # probar los k modelos sobre test\n",
    "    # Guardar ultimo epoch de validacion, quitar MCC cada epoch, gaurdar media y desviacion del ultimo\n",
    "    # Mirar si tiene emojis y traducirlos a texto (emojify)\n",
    "\n",
    "    #  ¿¿¿ #os.environ[\"CUBLAS_WORKSPACE_CONFIG\"]=\":16:8\" ???\n",
    "       # ERROR  # torch.use_deterministic_algorithms(True)  \n",
    "    # guardar los resultados weight and bias o ML flow\n",
    "    # Intentar guardar el MCC de cada fold para poder sacar desviaciones\n",
    "    # Guardar semilas.  La semilla es para que los datos sean los mismos.\n",
    "    # MCC  poner etiquetas a 1 y 2  ¿¿¿ seguro ???\n",
    "    # Arreglar docker\n",
    "    # sacar 10% de datos del dataset como sanity-check \n",
    "    # split stratify   (sklearn viene)\n",
    "    # cross validation (sklearn)"
   ]
  },
  {
   "cell_type": "code",
   "execution_count": 6,
   "metadata": {
    "execution": {
     "iopub.execute_input": "2024-04-04T23:02:56.153864Z",
     "iopub.status.busy": "2024-04-04T23:02:56.152955Z",
     "iopub.status.idle": "2024-04-04T23:02:56.159239Z",
     "shell.execute_reply": "2024-04-04T23:02:56.158120Z",
     "shell.execute_reply.started": "2024-04-04T23:02:56.153830Z"
    }
   },
   "outputs": [],
   "source": [
    "###############################\n",
    "#       configuración         #\n",
    "###############################\n",
    "\n",
    "#  RobertaLargeCovidPooledOut #  RobertaLargePooledOutput  #  BertLargeCovidPooledOutput  #  BertBasePooledOutput\n",
    "MODEL_NAME = \"RobertaLargePooledOutput\"\n",
    "EVALUATE_FREQ = 'END' # 'EVERY_EPOCH' #  'END'\n",
    "\n",
    "MAX_LENGTH = 512\n",
    "HEAD_DROPOUT = 0\n",
    "DATA_AUGMENTATION = [] #[\"Oversampling\"] # '_es_into_en' # 'llama_aug'\n",
    "FOLDS_NUM = 5\n",
    "\n",
    "NUM_EPOCHS = 5\n",
    "LEARNING_RATE = 2e-5\n",
    "BATCH_SIZE = 16\n",
    "\n",
    "LOSS_FN =  'cross_entropy' # 'cross_entropy' # 'supervised_contrastive' #  'MixUp'  # 'MixUp_SCL'\n",
    "\n",
    "# SCL\n",
    "temperature = 0.3  # temprature for contrastive loss\n",
    "lam = 1  # lambda for loss\n",
    "SWAP = 2\n",
    "DECAY = 0\n",
    "\n",
    "# MixUp\n",
    "ALFA = 0.2\n",
    "\n",
    "# Selección de modelos\n",
    "SELECTION = 0.2\n",
    "\n",
    "\n",
    "checkoint_folder = 'Ensemble_baseline'\n",
    "\n",
    "datadir = \"/home/inaki/host_data/dataset_oppositional/\"\n",
    "cuda_device = 0\n",
    "wandb_project = 'Ensemble_baseline'    # 'BASELINE'  'Ensemble_baseline'  'trash'  'epoch_analysis'"
   ]
  },
  {
   "cell_type": "code",
   "execution_count": 7,
   "metadata": {
    "execution": {
     "iopub.execute_input": "2024-04-04T23:02:58.460893Z",
     "iopub.status.busy": "2024-04-04T23:02:58.460599Z",
     "iopub.status.idle": "2024-04-04T23:02:59.150899Z",
     "shell.execute_reply": "2024-04-04T23:02:59.149887Z",
     "shell.execute_reply.started": "2024-04-04T23:02:58.460871Z"
    }
   },
   "outputs": [
    {
     "name": "stderr",
     "output_type": "stream",
     "text": [
      "/usr/local/lib/python3.10/dist-packages/huggingface_hub/file_download.py:1132: FutureWarning: `resume_download` is deprecated and will be removed in version 1.0.0. Downloads always resume when possible. If you want to force a new download, use `force_download=True`.\n",
      "  warnings.warn(\n"
     ]
    }
   ],
   "source": [
    "# Cargamos los datasets de entrenamiento y test\n",
    "train_en_dataset_path = datadir + \"train_en_data.pth\"\n",
    "test_en_dataset_path = datadir + \"test_en_data.pth\"\n",
    "train_es_dataset_path = datadir + \"train_es_data.pth\"\n",
    "test_es_dataset_path = datadir + \"test_es_data.pth\"\n",
    "\n",
    "# Dataset traducido por llama3 8B\n",
    "train_es_translated_path = datadir + \"train_es_translated_data.pth\"\n",
    "\n",
    "# creamos los datasets de test\n",
    "if MODEL_NAME.startswith(\"Roberta\"):\n",
    "    X, y = torch.load(test_es_dataset_path)\n",
    "    test_es_dataset = RobertaDataset(X, y)\n",
    "    X, y = torch.load(test_en_dataset_path)\n",
    "    test_en_dataset = RobertaDataset(X, y)\n",
    "elif MODEL_NAME.startswith(\"Bert\"):\n",
    "    X, y = torch.load(test_es_dataset_path)\n",
    "    test_es_dataset = BertDataset(X, y)\n",
    "    X, y = torch.load(test_en_dataset_path)\n",
    "    test_en_dataset = BertDataset(X, y)\n",
    "\n",
    "\n",
    "#Creamos dataloader de test\n",
    "test_en_dataloader = DataLoader(test_en_dataset, batch_size=BATCH_SIZE, shuffle=False)\n"
   ]
  },
  {
   "cell_type": "code",
   "execution_count": 8,
   "metadata": {
    "execution": {
     "iopub.execute_input": "2024-04-04T23:11:26.540949Z",
     "iopub.status.busy": "2024-04-04T23:11:26.540570Z",
     "iopub.status.idle": "2024-04-04T23:11:29.224028Z",
     "shell.execute_reply": "2024-04-04T23:11:29.222265Z",
     "shell.execute_reply.started": "2024-04-04T23:11:26.540917Z"
    }
   },
   "outputs": [
    {
     "name": "stderr",
     "output_type": "stream",
     "text": [
      "\u001b[34m\u001b[1mwandb\u001b[0m: Currently logged in as: \u001b[33minakitodc\u001b[0m (\u001b[33minaki\u001b[0m). Use \u001b[1m`wandb login --relogin`\u001b[0m to force relogin\n",
      "\u001b[34m\u001b[1mwandb\u001b[0m: \u001b[33mWARNING\u001b[0m If you're specifying your api key in code, ensure this code is not shared publicly.\n",
      "\u001b[34m\u001b[1mwandb\u001b[0m: \u001b[33mWARNING\u001b[0m Consider setting the WANDB_API_KEY environment variable, or running `wandb login` from the command line.\n",
      "\u001b[34m\u001b[1mwandb\u001b[0m: Appending key for api.wandb.ai to your netrc file: /home/inaki/.netrc\n"
     ]
    },
    {
     "name": "stdout",
     "output_type": "stream",
     "text": [
      "experimento 0:\n",
      "seed: 2708\n",
      "fold 1\n"
     ]
    },
    {
     "data": {
      "text/html": [
       "wandb version 0.17.0 is available!  To upgrade, please run:\n",
       " $ pip install wandb --upgrade"
      ],
      "text/plain": [
       "<IPython.core.display.HTML object>"
      ]
     },
     "metadata": {},
     "output_type": "display_data"
    },
    {
     "data": {
      "text/html": [
       "Tracking run with wandb version 0.16.6"
      ],
      "text/plain": [
       "<IPython.core.display.HTML object>"
      ]
     },
     "metadata": {},
     "output_type": "display_data"
    },
    {
     "data": {
      "text/html": [
       "Run data is saved locally in <code>/home/inaki/wandb/run-20240515_205127-ilt65yga</code>"
      ],
      "text/plain": [
       "<IPython.core.display.HTML object>"
      ]
     },
     "metadata": {},
     "output_type": "display_data"
    },
    {
     "data": {
      "text/html": [
       "Syncing run <strong><a href='https://wandb.ai/inaki/Ensemble_baseline/runs/ilt65yga' target=\"_blank\">gentle-wood-500</a></strong> to <a href='https://wandb.ai/inaki/Ensemble_baseline' target=\"_blank\">Weights & Biases</a> (<a href='https://wandb.me/run' target=\"_blank\">docs</a>)<br/>"
      ],
      "text/plain": [
       "<IPython.core.display.HTML object>"
      ]
     },
     "metadata": {},
     "output_type": "display_data"
    },
    {
     "data": {
      "text/html": [
       " View project at <a href='https://wandb.ai/inaki/Ensemble_baseline' target=\"_blank\">https://wandb.ai/inaki/Ensemble_baseline</a>"
      ],
      "text/plain": [
       "<IPython.core.display.HTML object>"
      ]
     },
     "metadata": {},
     "output_type": "display_data"
    },
    {
     "data": {
      "text/html": [
       " View run at <a href='https://wandb.ai/inaki/Ensemble_baseline/runs/ilt65yga' target=\"_blank\">https://wandb.ai/inaki/Ensemble_baseline/runs/ilt65yga</a>"
      ],
      "text/plain": [
       "<IPython.core.display.HTML object>"
      ]
     },
     "metadata": {},
     "output_type": "display_data"
    },
    {
     "name": "stderr",
     "output_type": "stream",
     "text": [
      "/usr/local/lib/python3.10/dist-packages/huggingface_hub/file_download.py:1132: FutureWarning: `resume_download` is deprecated and will be removed in version 1.0.0. Downloads always resume when possible. If you want to force a new download, use `force_download=True`.\n",
      "  warnings.warn(\n"
     ]
    },
    {
     "name": "stdout",
     "output_type": "stream",
     "text": [
      "No Oversampling\n"
     ]
    },
    {
     "name": "stderr",
     "output_type": "stream",
     "text": [
      "Some weights of RobertaModel were not initialized from the model checkpoint at roberta-large and are newly initialized: ['roberta.pooler.dense.bias', 'roberta.pooler.dense.weight']\n",
      "You should probably TRAIN this model on a down-stream task to be able to use it for predictions and inference.\n"
     ]
    },
    {
     "name": "stdout",
     "output_type": "stream",
     "text": [
      "cuda:0\n",
      "total params: 355360769 trainble params: 355360769\n"
     ]
    },
    {
     "name": "stderr",
     "output_type": "stream",
     "text": [
      "Epoch 1/5: 100%|██████████| 180/180 [05:07<00:00,  1.71s/batch, loss=0.522] \n"
     ]
    },
    {
     "name": "stdout",
     "output_type": "stream",
     "text": [
      "Epoch 1, Average Train Loss: 0.46387203364736507\n"
     ]
    },
    {
     "name": "stderr",
     "output_type": "stream",
     "text": [
      "Epoch 2/5: 100%|██████████| 180/180 [05:06<00:00,  1.70s/batch, loss=0.135] \n"
     ]
    },
    {
     "name": "stdout",
     "output_type": "stream",
     "text": [
      "Epoch 2, Average Train Loss: 0.20748315443181328\n"
     ]
    },
    {
     "name": "stderr",
     "output_type": "stream",
     "text": [
      "Epoch 3/5: 100%|██████████| 180/180 [05:06<00:00,  1.70s/batch, loss=0.0426] \n"
     ]
    },
    {
     "name": "stdout",
     "output_type": "stream",
     "text": [
      "Epoch 3, Average Train Loss: 0.10555461299243486\n"
     ]
    },
    {
     "name": "stderr",
     "output_type": "stream",
     "text": [
      "Epoch 4/5: 100%|██████████| 180/180 [05:06<00:00,  1.70s/batch, loss=0.0547] \n"
     ]
    },
    {
     "name": "stdout",
     "output_type": "stream",
     "text": [
      "Epoch 4, Average Train Loss: 0.03741425720250441\n"
     ]
    },
    {
     "name": "stderr",
     "output_type": "stream",
     "text": [
      "Epoch 5/5: 100%|██████████| 180/180 [05:06<00:00,  1.70s/batch, loss=0.00563]\n"
     ]
    },
    {
     "name": "stdout",
     "output_type": "stream",
     "text": [
      "Epoch 5, Average Train Loss: 0.015576410796751993\n",
      "Val MCC 0.5 threshold:  0.8107\n",
      "[[448  24]\n",
      " [ 37 211]]\n",
      "Average Val Loss: 0.3460\n",
      "Test MCC 0.5 threshold:  0.8216\n",
      "[[249  13]\n",
      " [ 19 119]]\n",
      "Average Test Loss: 0.2666\n",
      "fold 2\n"
     ]
    },
    {
     "data": {
      "text/html": [
       "Finishing last run (ID:ilt65yga) before initializing another..."
      ],
      "text/plain": [
       "<IPython.core.display.HTML object>"
      ]
     },
     "metadata": {},
     "output_type": "display_data"
    },
    {
     "data": {
      "application/vnd.jupyter.widget-view+json": {
       "model_id": "12a9db03ba50425bb01fc979ec436045",
       "version_major": 2,
       "version_minor": 0
      },
      "text/plain": [
       "VBox(children=(Label(value='0.003 MB of 0.003 MB uploaded\\r'), FloatProgress(value=1.0, max=1.0)))"
      ]
     },
     "metadata": {},
     "output_type": "display_data"
    },
    {
     "data": {
      "text/html": [
       "<style>\n",
       "    table.wandb td:nth-child(1) { padding: 0 10px; text-align: left ; width: auto;} td:nth-child(2) {text-align: left ; width: 100%}\n",
       "    .wandb-row { display: flex; flex-direction: row; flex-wrap: wrap; justify-content: flex-start; width: 100% }\n",
       "    .wandb-col { display: flex; flex-direction: column; flex-basis: 100%; flex: 1; padding: 10px; }\n",
       "    </style>\n",
       "<div class=\"wandb-row\"><div class=\"wandb-col\"><h3>Run history:</h3><br/><table class=\"wandb\"><tr><td>Test_0.5_threshold_MCC</td><td>▁</td></tr><tr><td>Val_0.5_threshold_MCC</td><td>▁</td></tr></table><br/></div><div class=\"wandb-col\"><h3>Run summary:</h3><br/><table class=\"wandb\"><tr><td>Test_0.5_threshold_MCC</td><td>0.82161</td></tr><tr><td>Val_0.5_threshold_MCC</td><td>0.8107</td></tr></table><br/></div></div>"
      ],
      "text/plain": [
       "<IPython.core.display.HTML object>"
      ]
     },
     "metadata": {},
     "output_type": "display_data"
    },
    {
     "data": {
      "text/html": [
       " View run <strong style=\"color:#cdcd00\">gentle-wood-500</strong> at: <a href='https://wandb.ai/inaki/Ensemble_baseline/runs/ilt65yga' target=\"_blank\">https://wandb.ai/inaki/Ensemble_baseline/runs/ilt65yga</a><br/> View project at: <a href='https://wandb.ai/inaki/Ensemble_baseline' target=\"_blank\">https://wandb.ai/inaki/Ensemble_baseline</a><br/>Synced 5 W&B file(s), 0 media file(s), 0 artifact file(s) and 0 other file(s)"
      ],
      "text/plain": [
       "<IPython.core.display.HTML object>"
      ]
     },
     "metadata": {},
     "output_type": "display_data"
    },
    {
     "data": {
      "text/html": [
       "Find logs at: <code>./wandb/run-20240515_205127-ilt65yga/logs</code>"
      ],
      "text/plain": [
       "<IPython.core.display.HTML object>"
      ]
     },
     "metadata": {},
     "output_type": "display_data"
    },
    {
     "data": {
      "text/html": [
       "Successfully finished last run (ID:ilt65yga). Initializing new run:<br/>"
      ],
      "text/plain": [
       "<IPython.core.display.HTML object>"
      ]
     },
     "metadata": {},
     "output_type": "display_data"
    },
    {
     "data": {
      "application/vnd.jupyter.widget-view+json": {
       "model_id": "5c73dceaeac949958474c8aa1fcbf219",
       "version_major": 2,
       "version_minor": 0
      },
      "text/plain": [
       "VBox(children=(Label(value='Waiting for wandb.init()...\\r'), FloatProgress(value=0.01111325442066623, max=1.0)…"
      ]
     },
     "metadata": {},
     "output_type": "display_data"
    },
    {
     "data": {
      "text/html": [
       "wandb version 0.17.0 is available!  To upgrade, please run:\n",
       " $ pip install wandb --upgrade"
      ],
      "text/plain": [
       "<IPython.core.display.HTML object>"
      ]
     },
     "metadata": {},
     "output_type": "display_data"
    },
    {
     "data": {
      "text/html": [
       "Tracking run with wandb version 0.16.6"
      ],
      "text/plain": [
       "<IPython.core.display.HTML object>"
      ]
     },
     "metadata": {},
     "output_type": "display_data"
    },
    {
     "data": {
      "text/html": [
       "Run data is saved locally in <code>/home/inaki/wandb/run-20240515_211757-l5z7hj3j</code>"
      ],
      "text/plain": [
       "<IPython.core.display.HTML object>"
      ]
     },
     "metadata": {},
     "output_type": "display_data"
    },
    {
     "data": {
      "text/html": [
       "Syncing run <strong><a href='https://wandb.ai/inaki/Ensemble_baseline/runs/l5z7hj3j' target=\"_blank\">hopeful-firebrand-503</a></strong> to <a href='https://wandb.ai/inaki/Ensemble_baseline' target=\"_blank\">Weights & Biases</a> (<a href='https://wandb.me/run' target=\"_blank\">docs</a>)<br/>"
      ],
      "text/plain": [
       "<IPython.core.display.HTML object>"
      ]
     },
     "metadata": {},
     "output_type": "display_data"
    },
    {
     "data": {
      "text/html": [
       " View project at <a href='https://wandb.ai/inaki/Ensemble_baseline' target=\"_blank\">https://wandb.ai/inaki/Ensemble_baseline</a>"
      ],
      "text/plain": [
       "<IPython.core.display.HTML object>"
      ]
     },
     "metadata": {},
     "output_type": "display_data"
    },
    {
     "data": {
      "text/html": [
       " View run at <a href='https://wandb.ai/inaki/Ensemble_baseline/runs/l5z7hj3j' target=\"_blank\">https://wandb.ai/inaki/Ensemble_baseline/runs/l5z7hj3j</a>"
      ],
      "text/plain": [
       "<IPython.core.display.HTML object>"
      ]
     },
     "metadata": {},
     "output_type": "display_data"
    },
    {
     "name": "stderr",
     "output_type": "stream",
     "text": [
      "/usr/local/lib/python3.10/dist-packages/huggingface_hub/file_download.py:1132: FutureWarning: `resume_download` is deprecated and will be removed in version 1.0.0. Downloads always resume when possible. If you want to force a new download, use `force_download=True`.\n",
      "  warnings.warn(\n"
     ]
    },
    {
     "name": "stdout",
     "output_type": "stream",
     "text": [
      "No Oversampling\n"
     ]
    },
    {
     "name": "stderr",
     "output_type": "stream",
     "text": [
      "Some weights of RobertaModel were not initialized from the model checkpoint at roberta-large and are newly initialized: ['roberta.pooler.dense.bias', 'roberta.pooler.dense.weight']\n",
      "You should probably TRAIN this model on a down-stream task to be able to use it for predictions and inference.\n"
     ]
    },
    {
     "name": "stdout",
     "output_type": "stream",
     "text": [
      "cuda:0\n",
      "total params: 355360769 trainble params: 355360769\n"
     ]
    },
    {
     "name": "stderr",
     "output_type": "stream",
     "text": [
      "Epoch 1/5: 100%|██████████| 180/180 [05:08<00:00,  1.71s/batch, loss=0.311] \n"
     ]
    },
    {
     "name": "stdout",
     "output_type": "stream",
     "text": [
      "Epoch 1, Average Train Loss: 0.5186827197257016\n"
     ]
    },
    {
     "name": "stderr",
     "output_type": "stream",
     "text": [
      "Epoch 2/5: 100%|██████████| 180/180 [05:06<00:00,  1.70s/batch, loss=0.141] \n"
     ]
    },
    {
     "name": "stdout",
     "output_type": "stream",
     "text": [
      "Epoch 2, Average Train Loss: 0.2601796785679956\n"
     ]
    },
    {
     "name": "stderr",
     "output_type": "stream",
     "text": [
      "Epoch 3/5: 100%|██████████| 180/180 [05:06<00:00,  1.70s/batch, loss=0.103] \n"
     ]
    },
    {
     "name": "stdout",
     "output_type": "stream",
     "text": [
      "Epoch 3, Average Train Loss: 0.15079038004494374\n"
     ]
    },
    {
     "name": "stderr",
     "output_type": "stream",
     "text": [
      "Epoch 4/5: 100%|██████████| 180/180 [05:06<00:00,  1.71s/batch, loss=0.122]  \n"
     ]
    },
    {
     "name": "stdout",
     "output_type": "stream",
     "text": [
      "Epoch 4, Average Train Loss: 0.07070061176911824\n"
     ]
    },
    {
     "name": "stderr",
     "output_type": "stream",
     "text": [
      "Epoch 5/5: 100%|██████████| 180/180 [05:06<00:00,  1.70s/batch, loss=0.0208] \n"
     ]
    },
    {
     "name": "stdout",
     "output_type": "stream",
     "text": [
      "Epoch 5, Average Train Loss: 0.03335235768204762\n",
      "Val MCC 0.5 threshold:  0.8233\n",
      "[[449  23]\n",
      " [ 34 214]]\n",
      "Average Val Loss: 0.2828\n",
      "Test MCC 0.5 threshold:  0.8050\n",
      "[[247  15]\n",
      " [ 20 118]]\n",
      "Average Test Loss: 0.3016\n",
      "fold 3\n"
     ]
    },
    {
     "data": {
      "text/html": [
       "Finishing last run (ID:l5z7hj3j) before initializing another..."
      ],
      "text/plain": [
       "<IPython.core.display.HTML object>"
      ]
     },
     "metadata": {},
     "output_type": "display_data"
    },
    {
     "data": {
      "application/vnd.jupyter.widget-view+json": {
       "model_id": "534cd85cd53044d48380ddaf3349991a",
       "version_major": 2,
       "version_minor": 0
      },
      "text/plain": [
       "VBox(children=(Label(value='0.003 MB of 0.003 MB uploaded\\r'), FloatProgress(value=1.0, max=1.0)))"
      ]
     },
     "metadata": {},
     "output_type": "display_data"
    },
    {
     "data": {
      "text/html": [
       "<style>\n",
       "    table.wandb td:nth-child(1) { padding: 0 10px; text-align: left ; width: auto;} td:nth-child(2) {text-align: left ; width: 100%}\n",
       "    .wandb-row { display: flex; flex-direction: row; flex-wrap: wrap; justify-content: flex-start; width: 100% }\n",
       "    .wandb-col { display: flex; flex-direction: column; flex-basis: 100%; flex: 1; padding: 10px; }\n",
       "    </style>\n",
       "<div class=\"wandb-row\"><div class=\"wandb-col\"><h3>Run history:</h3><br/><table class=\"wandb\"><tr><td>Test_0.5_threshold_MCC</td><td>▁</td></tr><tr><td>Val_0.5_threshold_MCC</td><td>▁</td></tr></table><br/></div><div class=\"wandb-col\"><h3>Run summary:</h3><br/><table class=\"wandb\"><tr><td>Test_0.5_threshold_MCC</td><td>0.80503</td></tr><tr><td>Val_0.5_threshold_MCC</td><td>0.82332</td></tr></table><br/></div></div>"
      ],
      "text/plain": [
       "<IPython.core.display.HTML object>"
      ]
     },
     "metadata": {},
     "output_type": "display_data"
    },
    {
     "data": {
      "text/html": [
       " View run <strong style=\"color:#cdcd00\">hopeful-firebrand-503</strong> at: <a href='https://wandb.ai/inaki/Ensemble_baseline/runs/l5z7hj3j' target=\"_blank\">https://wandb.ai/inaki/Ensemble_baseline/runs/l5z7hj3j</a><br/> View project at: <a href='https://wandb.ai/inaki/Ensemble_baseline' target=\"_blank\">https://wandb.ai/inaki/Ensemble_baseline</a><br/>Synced 5 W&B file(s), 0 media file(s), 0 artifact file(s) and 0 other file(s)"
      ],
      "text/plain": [
       "<IPython.core.display.HTML object>"
      ]
     },
     "metadata": {},
     "output_type": "display_data"
    },
    {
     "data": {
      "text/html": [
       "Find logs at: <code>./wandb/run-20240515_211757-l5z7hj3j/logs</code>"
      ],
      "text/plain": [
       "<IPython.core.display.HTML object>"
      ]
     },
     "metadata": {},
     "output_type": "display_data"
    },
    {
     "data": {
      "text/html": [
       "Successfully finished last run (ID:l5z7hj3j). Initializing new run:<br/>"
      ],
      "text/plain": [
       "<IPython.core.display.HTML object>"
      ]
     },
     "metadata": {},
     "output_type": "display_data"
    },
    {
     "data": {
      "application/vnd.jupyter.widget-view+json": {
       "model_id": "cf30e2cb26bf48bda7913029938b37f4",
       "version_major": 2,
       "version_minor": 0
      },
      "text/plain": [
       "VBox(children=(Label(value='Waiting for wandb.init()...\\r'), FloatProgress(value=0.011113030613503522, max=1.0…"
      ]
     },
     "metadata": {},
     "output_type": "display_data"
    },
    {
     "data": {
      "text/html": [
       "wandb version 0.17.0 is available!  To upgrade, please run:\n",
       " $ pip install wandb --upgrade"
      ],
      "text/plain": [
       "<IPython.core.display.HTML object>"
      ]
     },
     "metadata": {},
     "output_type": "display_data"
    },
    {
     "data": {
      "text/html": [
       "Tracking run with wandb version 0.16.6"
      ],
      "text/plain": [
       "<IPython.core.display.HTML object>"
      ]
     },
     "metadata": {},
     "output_type": "display_data"
    },
    {
     "data": {
      "text/html": [
       "Run data is saved locally in <code>/home/inaki/wandb/run-20240515_214434-y3qgwras</code>"
      ],
      "text/plain": [
       "<IPython.core.display.HTML object>"
      ]
     },
     "metadata": {},
     "output_type": "display_data"
    },
    {
     "data": {
      "text/html": [
       "Syncing run <strong><a href='https://wandb.ai/inaki/Ensemble_baseline/runs/y3qgwras' target=\"_blank\">winter-cherry-505</a></strong> to <a href='https://wandb.ai/inaki/Ensemble_baseline' target=\"_blank\">Weights & Biases</a> (<a href='https://wandb.me/run' target=\"_blank\">docs</a>)<br/>"
      ],
      "text/plain": [
       "<IPython.core.display.HTML object>"
      ]
     },
     "metadata": {},
     "output_type": "display_data"
    },
    {
     "data": {
      "text/html": [
       " View project at <a href='https://wandb.ai/inaki/Ensemble_baseline' target=\"_blank\">https://wandb.ai/inaki/Ensemble_baseline</a>"
      ],
      "text/plain": [
       "<IPython.core.display.HTML object>"
      ]
     },
     "metadata": {},
     "output_type": "display_data"
    },
    {
     "data": {
      "text/html": [
       " View run at <a href='https://wandb.ai/inaki/Ensemble_baseline/runs/y3qgwras' target=\"_blank\">https://wandb.ai/inaki/Ensemble_baseline/runs/y3qgwras</a>"
      ],
      "text/plain": [
       "<IPython.core.display.HTML object>"
      ]
     },
     "metadata": {},
     "output_type": "display_data"
    },
    {
     "name": "stderr",
     "output_type": "stream",
     "text": [
      "/usr/local/lib/python3.10/dist-packages/huggingface_hub/file_download.py:1132: FutureWarning: `resume_download` is deprecated and will be removed in version 1.0.0. Downloads always resume when possible. If you want to force a new download, use `force_download=True`.\n",
      "  warnings.warn(\n"
     ]
    },
    {
     "name": "stdout",
     "output_type": "stream",
     "text": [
      "No Oversampling\n"
     ]
    },
    {
     "name": "stderr",
     "output_type": "stream",
     "text": [
      "Some weights of RobertaModel were not initialized from the model checkpoint at roberta-large and are newly initialized: ['roberta.pooler.dense.bias', 'roberta.pooler.dense.weight']\n",
      "You should probably TRAIN this model on a down-stream task to be able to use it for predictions and inference.\n"
     ]
    },
    {
     "name": "stdout",
     "output_type": "stream",
     "text": [
      "cuda:0\n",
      "total params: 355360769 trainble params: 355360769\n"
     ]
    },
    {
     "name": "stderr",
     "output_type": "stream",
     "text": [
      "Epoch 1/5: 100%|██████████| 180/180 [05:08<00:00,  1.71s/batch, loss=0.148] \n"
     ]
    },
    {
     "name": "stdout",
     "output_type": "stream",
     "text": [
      "Epoch 1, Average Train Loss: 0.4734380390495062\n"
     ]
    },
    {
     "name": "stderr",
     "output_type": "stream",
     "text": [
      "Epoch 2/5: 100%|██████████| 180/180 [05:06<00:00,  1.70s/batch, loss=0.28]  \n"
     ]
    },
    {
     "name": "stdout",
     "output_type": "stream",
     "text": [
      "Epoch 2, Average Train Loss: 0.22430828999107083\n"
     ]
    },
    {
     "name": "stderr",
     "output_type": "stream",
     "text": [
      "Epoch 3/5: 100%|██████████| 180/180 [05:06<00:00,  1.70s/batch, loss=0.177]  \n"
     ]
    },
    {
     "name": "stdout",
     "output_type": "stream",
     "text": [
      "Epoch 3, Average Train Loss: 0.10642630711146113\n"
     ]
    },
    {
     "name": "stderr",
     "output_type": "stream",
     "text": [
      "Epoch 4/5: 100%|██████████| 180/180 [05:06<00:00,  1.70s/batch, loss=0.00222]\n"
     ]
    },
    {
     "name": "stdout",
     "output_type": "stream",
     "text": [
      "Epoch 4, Average Train Loss: 0.038097205822769965\n"
     ]
    },
    {
     "name": "stderr",
     "output_type": "stream",
     "text": [
      "Epoch 5/5: 100%|██████████| 180/180 [05:06<00:00,  1.70s/batch, loss=0.00263]\n"
     ]
    },
    {
     "name": "stdout",
     "output_type": "stream",
     "text": [
      "Epoch 5, Average Train Loss: 0.022198122992025067\n",
      "Val MCC 0.5 threshold:  0.7954\n",
      "[[444  28]\n",
      " [ 38 210]]\n",
      "Average Val Loss: 0.3519\n",
      "Test MCC 0.5 threshold:  0.8383\n",
      "[[251  11]\n",
      " [ 18 120]]\n",
      "Average Test Loss: 0.2938\n",
      "fold 4\n"
     ]
    },
    {
     "data": {
      "text/html": [
       "Finishing last run (ID:y3qgwras) before initializing another..."
      ],
      "text/plain": [
       "<IPython.core.display.HTML object>"
      ]
     },
     "metadata": {},
     "output_type": "display_data"
    },
    {
     "data": {
      "application/vnd.jupyter.widget-view+json": {
       "model_id": "c79e55c2545044a49c9092cd527a4808",
       "version_major": 2,
       "version_minor": 0
      },
      "text/plain": [
       "VBox(children=(Label(value='0.003 MB of 0.003 MB uploaded\\r'), FloatProgress(value=1.0, max=1.0)))"
      ]
     },
     "metadata": {},
     "output_type": "display_data"
    },
    {
     "data": {
      "text/html": [
       "<style>\n",
       "    table.wandb td:nth-child(1) { padding: 0 10px; text-align: left ; width: auto;} td:nth-child(2) {text-align: left ; width: 100%}\n",
       "    .wandb-row { display: flex; flex-direction: row; flex-wrap: wrap; justify-content: flex-start; width: 100% }\n",
       "    .wandb-col { display: flex; flex-direction: column; flex-basis: 100%; flex: 1; padding: 10px; }\n",
       "    </style>\n",
       "<div class=\"wandb-row\"><div class=\"wandb-col\"><h3>Run history:</h3><br/><table class=\"wandb\"><tr><td>Test_0.5_threshold_MCC</td><td>▁</td></tr><tr><td>Val_0.5_threshold_MCC</td><td>▁</td></tr></table><br/></div><div class=\"wandb-col\"><h3>Run summary:</h3><br/><table class=\"wandb\"><tr><td>Test_0.5_threshold_MCC</td><td>0.83828</td></tr><tr><td>Val_0.5_threshold_MCC</td><td>0.79544</td></tr></table><br/></div></div>"
      ],
      "text/plain": [
       "<IPython.core.display.HTML object>"
      ]
     },
     "metadata": {},
     "output_type": "display_data"
    },
    {
     "data": {
      "text/html": [
       " View run <strong style=\"color:#cdcd00\">winter-cherry-505</strong> at: <a href='https://wandb.ai/inaki/Ensemble_baseline/runs/y3qgwras' target=\"_blank\">https://wandb.ai/inaki/Ensemble_baseline/runs/y3qgwras</a><br/> View project at: <a href='https://wandb.ai/inaki/Ensemble_baseline' target=\"_blank\">https://wandb.ai/inaki/Ensemble_baseline</a><br/>Synced 5 W&B file(s), 0 media file(s), 0 artifact file(s) and 0 other file(s)"
      ],
      "text/plain": [
       "<IPython.core.display.HTML object>"
      ]
     },
     "metadata": {},
     "output_type": "display_data"
    },
    {
     "data": {
      "text/html": [
       "Find logs at: <code>./wandb/run-20240515_214434-y3qgwras/logs</code>"
      ],
      "text/plain": [
       "<IPython.core.display.HTML object>"
      ]
     },
     "metadata": {},
     "output_type": "display_data"
    },
    {
     "data": {
      "text/html": [
       "Successfully finished last run (ID:y3qgwras). Initializing new run:<br/>"
      ],
      "text/plain": [
       "<IPython.core.display.HTML object>"
      ]
     },
     "metadata": {},
     "output_type": "display_data"
    },
    {
     "data": {
      "application/vnd.jupyter.widget-view+json": {
       "model_id": "d8410ac14cce436b8dc3d6688cb250c8",
       "version_major": 2,
       "version_minor": 0
      },
      "text/plain": [
       "VBox(children=(Label(value='Waiting for wandb.init()...\\r'), FloatProgress(value=0.011113278857535786, max=1.0…"
      ]
     },
     "metadata": {},
     "output_type": "display_data"
    },
    {
     "data": {
      "text/html": [
       "wandb version 0.17.0 is available!  To upgrade, please run:\n",
       " $ pip install wandb --upgrade"
      ],
      "text/plain": [
       "<IPython.core.display.HTML object>"
      ]
     },
     "metadata": {},
     "output_type": "display_data"
    },
    {
     "data": {
      "text/html": [
       "Tracking run with wandb version 0.16.6"
      ],
      "text/plain": [
       "<IPython.core.display.HTML object>"
      ]
     },
     "metadata": {},
     "output_type": "display_data"
    },
    {
     "data": {
      "text/html": [
       "Run data is saved locally in <code>/home/inaki/wandb/run-20240515_221106-n6x1mjor</code>"
      ],
      "text/plain": [
       "<IPython.core.display.HTML object>"
      ]
     },
     "metadata": {},
     "output_type": "display_data"
    },
    {
     "data": {
      "text/html": [
       "Syncing run <strong><a href='https://wandb.ai/inaki/Ensemble_baseline/runs/n6x1mjor' target=\"_blank\">ruby-paper-508</a></strong> to <a href='https://wandb.ai/inaki/Ensemble_baseline' target=\"_blank\">Weights & Biases</a> (<a href='https://wandb.me/run' target=\"_blank\">docs</a>)<br/>"
      ],
      "text/plain": [
       "<IPython.core.display.HTML object>"
      ]
     },
     "metadata": {},
     "output_type": "display_data"
    },
    {
     "data": {
      "text/html": [
       " View project at <a href='https://wandb.ai/inaki/Ensemble_baseline' target=\"_blank\">https://wandb.ai/inaki/Ensemble_baseline</a>"
      ],
      "text/plain": [
       "<IPython.core.display.HTML object>"
      ]
     },
     "metadata": {},
     "output_type": "display_data"
    },
    {
     "data": {
      "text/html": [
       " View run at <a href='https://wandb.ai/inaki/Ensemble_baseline/runs/n6x1mjor' target=\"_blank\">https://wandb.ai/inaki/Ensemble_baseline/runs/n6x1mjor</a>"
      ],
      "text/plain": [
       "<IPython.core.display.HTML object>"
      ]
     },
     "metadata": {},
     "output_type": "display_data"
    },
    {
     "name": "stderr",
     "output_type": "stream",
     "text": [
      "/usr/local/lib/python3.10/dist-packages/huggingface_hub/file_download.py:1132: FutureWarning: `resume_download` is deprecated and will be removed in version 1.0.0. Downloads always resume when possible. If you want to force a new download, use `force_download=True`.\n",
      "  warnings.warn(\n"
     ]
    },
    {
     "name": "stdout",
     "output_type": "stream",
     "text": [
      "No Oversampling\n"
     ]
    },
    {
     "name": "stderr",
     "output_type": "stream",
     "text": [
      "Some weights of RobertaModel were not initialized from the model checkpoint at roberta-large and are newly initialized: ['roberta.pooler.dense.bias', 'roberta.pooler.dense.weight']\n",
      "You should probably TRAIN this model on a down-stream task to be able to use it for predictions and inference.\n"
     ]
    },
    {
     "name": "stdout",
     "output_type": "stream",
     "text": [
      "cuda:0\n",
      "total params: 355360769 trainble params: 355360769\n"
     ]
    },
    {
     "name": "stderr",
     "output_type": "stream",
     "text": [
      "Epoch 1/5: 100%|██████████| 180/180 [05:08<00:00,  1.71s/batch, loss=0.625]\n"
     ]
    },
    {
     "name": "stdout",
     "output_type": "stream",
     "text": [
      "Epoch 1, Average Train Loss: 0.5765644804471068\n"
     ]
    },
    {
     "name": "stderr",
     "output_type": "stream",
     "text": [
      "Epoch 2/5: 100%|██████████| 180/180 [05:06<00:00,  1.70s/batch, loss=0.171] \n"
     ]
    },
    {
     "name": "stdout",
     "output_type": "stream",
     "text": [
      "Epoch 2, Average Train Loss: 0.3358575368920962\n"
     ]
    },
    {
     "name": "stderr",
     "output_type": "stream",
     "text": [
      "Epoch 3/5: 100%|██████████| 180/180 [05:06<00:00,  1.70s/batch, loss=0.0751]\n"
     ]
    },
    {
     "name": "stdout",
     "output_type": "stream",
     "text": [
      "Epoch 3, Average Train Loss: 0.23976188231673506\n"
     ]
    },
    {
     "name": "stderr",
     "output_type": "stream",
     "text": [
      "Epoch 4/5: 100%|██████████| 180/180 [05:06<00:00,  1.70s/batch, loss=0.379] \n"
     ]
    },
    {
     "name": "stdout",
     "output_type": "stream",
     "text": [
      "Epoch 4, Average Train Loss: 0.16185831783546342\n"
     ]
    },
    {
     "name": "stderr",
     "output_type": "stream",
     "text": [
      "Epoch 5/5: 100%|██████████| 180/180 [05:06<00:00,  1.70s/batch, loss=0.35]  \n"
     ]
    },
    {
     "name": "stdout",
     "output_type": "stream",
     "text": [
      "Epoch 5, Average Train Loss: 0.11424906240879662\n",
      "Val MCC 0.5 threshold:  0.8366\n",
      "[[447  25]\n",
      " [ 28 220]]\n",
      "Average Val Loss: 0.2483\n",
      "Test MCC 0.5 threshold:  0.8044\n",
      "[[249  13]\n",
      " [ 22 116]]\n",
      "Average Test Loss: 0.2807\n",
      "fold 5\n"
     ]
    },
    {
     "data": {
      "text/html": [
       "Finishing last run (ID:n6x1mjor) before initializing another..."
      ],
      "text/plain": [
       "<IPython.core.display.HTML object>"
      ]
     },
     "metadata": {},
     "output_type": "display_data"
    },
    {
     "data": {
      "application/vnd.jupyter.widget-view+json": {
       "model_id": "dbde63bd26ba4def918418a0b771cef7",
       "version_major": 2,
       "version_minor": 0
      },
      "text/plain": [
       "VBox(children=(Label(value='0.003 MB of 0.003 MB uploaded\\r'), FloatProgress(value=1.0, max=1.0)))"
      ]
     },
     "metadata": {},
     "output_type": "display_data"
    },
    {
     "data": {
      "text/html": [
       "<style>\n",
       "    table.wandb td:nth-child(1) { padding: 0 10px; text-align: left ; width: auto;} td:nth-child(2) {text-align: left ; width: 100%}\n",
       "    .wandb-row { display: flex; flex-direction: row; flex-wrap: wrap; justify-content: flex-start; width: 100% }\n",
       "    .wandb-col { display: flex; flex-direction: column; flex-basis: 100%; flex: 1; padding: 10px; }\n",
       "    </style>\n",
       "<div class=\"wandb-row\"><div class=\"wandb-col\"><h3>Run history:</h3><br/><table class=\"wandb\"><tr><td>Test_0.5_threshold_MCC</td><td>▁</td></tr><tr><td>Val_0.5_threshold_MCC</td><td>▁</td></tr></table><br/></div><div class=\"wandb-col\"><h3>Run summary:</h3><br/><table class=\"wandb\"><tr><td>Test_0.5_threshold_MCC</td><td>0.80439</td></tr><tr><td>Val_0.5_threshold_MCC</td><td>0.83657</td></tr></table><br/></div></div>"
      ],
      "text/plain": [
       "<IPython.core.display.HTML object>"
      ]
     },
     "metadata": {},
     "output_type": "display_data"
    },
    {
     "data": {
      "text/html": [
       " View run <strong style=\"color:#cdcd00\">ruby-paper-508</strong> at: <a href='https://wandb.ai/inaki/Ensemble_baseline/runs/n6x1mjor' target=\"_blank\">https://wandb.ai/inaki/Ensemble_baseline/runs/n6x1mjor</a><br/> View project at: <a href='https://wandb.ai/inaki/Ensemble_baseline' target=\"_blank\">https://wandb.ai/inaki/Ensemble_baseline</a><br/>Synced 5 W&B file(s), 0 media file(s), 0 artifact file(s) and 0 other file(s)"
      ],
      "text/plain": [
       "<IPython.core.display.HTML object>"
      ]
     },
     "metadata": {},
     "output_type": "display_data"
    },
    {
     "data": {
      "text/html": [
       "Find logs at: <code>./wandb/run-20240515_221106-n6x1mjor/logs</code>"
      ],
      "text/plain": [
       "<IPython.core.display.HTML object>"
      ]
     },
     "metadata": {},
     "output_type": "display_data"
    },
    {
     "data": {
      "text/html": [
       "Successfully finished last run (ID:n6x1mjor). Initializing new run:<br/>"
      ],
      "text/plain": [
       "<IPython.core.display.HTML object>"
      ]
     },
     "metadata": {},
     "output_type": "display_data"
    },
    {
     "data": {
      "application/vnd.jupyter.widget-view+json": {
       "model_id": "eef25d7902c6434182d861e703f08b0f",
       "version_major": 2,
       "version_minor": 0
      },
      "text/plain": [
       "VBox(children=(Label(value='Waiting for wandb.init()...\\r'), FloatProgress(value=0.011113048075801796, max=1.0…"
      ]
     },
     "metadata": {},
     "output_type": "display_data"
    },
    {
     "data": {
      "text/html": [
       "wandb version 0.17.0 is available!  To upgrade, please run:\n",
       " $ pip install wandb --upgrade"
      ],
      "text/plain": [
       "<IPython.core.display.HTML object>"
      ]
     },
     "metadata": {},
     "output_type": "display_data"
    },
    {
     "data": {
      "text/html": [
       "Tracking run with wandb version 0.16.6"
      ],
      "text/plain": [
       "<IPython.core.display.HTML object>"
      ]
     },
     "metadata": {},
     "output_type": "display_data"
    },
    {
     "data": {
      "text/html": [
       "Run data is saved locally in <code>/home/inaki/wandb/run-20240515_223740-ppjex8du</code>"
      ],
      "text/plain": [
       "<IPython.core.display.HTML object>"
      ]
     },
     "metadata": {},
     "output_type": "display_data"
    },
    {
     "data": {
      "text/html": [
       "Syncing run <strong><a href='https://wandb.ai/inaki/Ensemble_baseline/runs/ppjex8du' target=\"_blank\">apricot-galaxy-511</a></strong> to <a href='https://wandb.ai/inaki/Ensemble_baseline' target=\"_blank\">Weights & Biases</a> (<a href='https://wandb.me/run' target=\"_blank\">docs</a>)<br/>"
      ],
      "text/plain": [
       "<IPython.core.display.HTML object>"
      ]
     },
     "metadata": {},
     "output_type": "display_data"
    },
    {
     "data": {
      "text/html": [
       " View project at <a href='https://wandb.ai/inaki/Ensemble_baseline' target=\"_blank\">https://wandb.ai/inaki/Ensemble_baseline</a>"
      ],
      "text/plain": [
       "<IPython.core.display.HTML object>"
      ]
     },
     "metadata": {},
     "output_type": "display_data"
    },
    {
     "data": {
      "text/html": [
       " View run at <a href='https://wandb.ai/inaki/Ensemble_baseline/runs/ppjex8du' target=\"_blank\">https://wandb.ai/inaki/Ensemble_baseline/runs/ppjex8du</a>"
      ],
      "text/plain": [
       "<IPython.core.display.HTML object>"
      ]
     },
     "metadata": {},
     "output_type": "display_data"
    },
    {
     "name": "stderr",
     "output_type": "stream",
     "text": [
      "/usr/local/lib/python3.10/dist-packages/huggingface_hub/file_download.py:1132: FutureWarning: `resume_download` is deprecated and will be removed in version 1.0.0. Downloads always resume when possible. If you want to force a new download, use `force_download=True`.\n",
      "  warnings.warn(\n"
     ]
    },
    {
     "name": "stdout",
     "output_type": "stream",
     "text": [
      "No Oversampling\n"
     ]
    },
    {
     "name": "stderr",
     "output_type": "stream",
     "text": [
      "Some weights of RobertaModel were not initialized from the model checkpoint at roberta-large and are newly initialized: ['roberta.pooler.dense.bias', 'roberta.pooler.dense.weight']\n",
      "You should probably TRAIN this model on a down-stream task to be able to use it for predictions and inference.\n"
     ]
    },
    {
     "name": "stdout",
     "output_type": "stream",
     "text": [
      "cuda:0\n",
      "total params: 355360769 trainble params: 355360769\n"
     ]
    },
    {
     "name": "stderr",
     "output_type": "stream",
     "text": [
      "Epoch 1/5: 100%|██████████| 180/180 [05:08<00:00,  1.71s/batch, loss=0.468]\n"
     ]
    },
    {
     "name": "stdout",
     "output_type": "stream",
     "text": [
      "Epoch 1, Average Train Loss: 0.5281728137698438\n"
     ]
    },
    {
     "name": "stderr",
     "output_type": "stream",
     "text": [
      "Epoch 2/5:  22%|██▏       | 40/180 [01:08<03:58,  1.71s/batch, loss=0.433] "
     ]
    }
   ],
   "source": [
    "##################################\n",
    "#     Weigths and bias Login    #\n",
    "##################################\n",
    "# MY API KEY\n",
    "#    240062b42b3367d962eecb38802f856b41245735\n",
    "wandb.login(key=\"240062b42b3367d962eecb38802f856b41245735\")\n",
    "\n",
    "for i in range(10):\n",
    "    print(f\"experimento {i}:\")\n",
    "    #####################\n",
    "    #  Reproducibilidad #\n",
    "    #####################\n",
    "    SEED = random.randint(0,10000)\n",
    "    print(f\"seed: {SEED}\")\n",
    "    # fuente  -  https://pytorch.org/docs/stable/notes/randomness.html\n",
    "    random.seed(SEED)\n",
    "    np.random.seed(SEED)\n",
    "    torch.manual_seed(SEED)\n",
    "    torch.use_deterministic_algorithms(True)\n",
    "    torch.backends.cudnn.deterministic = True\n",
    "\n",
    "\n",
    "    ######################################\n",
    "    #          K-FOLD TRAIN LOOP         #\n",
    "    ######################################\n",
    "\n",
    "    # CROSS VALIDATION LOOP\n",
    "    X, y = torch.load(train_en_dataset_path)\n",
    "    X = np.array(X)\n",
    "    y = np.array(y)\n",
    "\n",
    "    if \"_es_into_en\" in DATA_AUGMENTATION:\n",
    "        X_tr, y_tr = torch.load(train_es_translated_path)\n",
    "        X_tr, y_tr = np.array(X_tr), np.array(y_tr)\n",
    "\n",
    "    if \"llama_aug\" in DATA_AUGMENTATION:\n",
    "        X_aug, y_aug = torch.load(datadir + \"train_en_data_AUG_1-2.pth\")\n",
    "        X_aug, y_aug = np.array(X_aug), np.array(y_aug)\n",
    "\n",
    "\n",
    "    skf = StratifiedKFold(n_splits=FOLDS_NUM, shuffle=True, random_state=42)\n",
    "\n",
    "    k_test_outputs = []\n",
    "    # Loop over the folds\n",
    "    for fold_idx, (train_index, val_index) in enumerate(skf.split(X, y)):\n",
    "        print(f\"fold {fold_idx + 1}\")\n",
    "        \n",
    "        # Weigths and bias init\n",
    "        config = {\n",
    "        \"MAX_LENGTH\": MAX_LENGTH,\n",
    "        \"HEAD_DROPOUT\": HEAD_DROPOUT,\n",
    "        \"DATA_AUGMENTATION\": DATA_AUGMENTATION,\n",
    "        \"FOLDS_NUM\": FOLDS_NUM,\n",
    "        \"NUM_EPOCHS\": NUM_EPOCHS,\n",
    "        \"LEARNING_RATE\": LEARNING_RATE,\n",
    "        \"BATCH_SIZE\": BATCH_SIZE,\n",
    "        \"FOLD_IDX\": fold_idx,\n",
    "        \"DATA_AUGMENTATION\": DATA_AUGMENTATION,\n",
    "        \"LOSS_FN\": LOSS_FN,\n",
    "        \"SEED\": SEED\n",
    "        }\n",
    "        GROUP = f\"{MODEL_NAME}_{HEAD_DROPOUT}_{BATCH_SIZE}_{LEARNING_RATE}_{DATA_AUGMENTATION}_{LOSS_FN}\"\n",
    "        if LOSS_FN == 'supervised_contrastive' or LOSS_FN == 'MixUp_SCL':\n",
    "            GROUP += f\"_{temperature}\"\n",
    "            if DECAY != 0:\n",
    "                GROUP += f\"_dec-{DECAY}\"\n",
    "            if SWAP != 0:\n",
    "                GROUP += f\"_swap-{SWAP}\"\n",
    "            else:\n",
    "                GROUP += f\"_lam-{lam}\"\n",
    "        if LOSS_FN == 'MixUp' or LOSS_FN == 'MixUp_SCL':\n",
    "            GROUP += f\"_alfa-{ALFA}\"\n",
    "        wandb.init(project=wandb_project, group=GROUP, config=config)\n",
    "        \n",
    "        # Create the fold-specific train and validation sets\n",
    "        X_train_fold, X_val_fold = X[train_index], X[val_index]\n",
    "        y_train_fold, y_val_fold = y[train_index], y[val_index]\n",
    "\n",
    "        # mapeo indices de los originales a sus aumentaciones 1 a 2\n",
    "        if \"llama_aug\" in DATA_AUGMENTATION:\n",
    "            train_aug_idx = []\n",
    "            for idx in train_index:\n",
    "                train_aug_idx += [idx*2, idx*2 +1]  # Esto esta hardcodeado a que sea 1 a 2\n",
    "            X_aug_train, y_aug_train = X_aug[train_aug_idx], y_aug[train_aug_idx]\n",
    "            # Concateno los datos aumentados\n",
    "            X_train_fold = np.concatenate((X_train_fold, X_aug_train))\n",
    "            y_train_fold = np.concatenate((y_train_fold, y_aug_train))\n",
    "\n",
    "        #El de entrenamiento le añado el dataset traducido\n",
    "        if \"_es_into_en\" in DATA_AUGMENTATION:\n",
    "            X_train_fold = np.concatenate((X_train_fold, X_tr))\n",
    "            y_train_fold = np.concatenate((y_train_fold, y_tr))\n",
    "\n",
    "        # MixUP\n",
    "        if LOSS_FN == 'MixUp' or LOSS_FN == 'MixUp_SCL':\n",
    "            # separamos el dataset entre positivos y negativos.  \n",
    "            ###  ¡¡  OJO estamos usando tambien el aumentado de llama y el traducido  !!\n",
    "            positive = BertDataset(X_train_fold[y_train_fold == 1], y_train_fold[y_train_fold == 1])\n",
    "            negative = BertDataset(X_train_fold[y_train_fold == 0], y_train_fold[y_train_fold == 0])\n",
    "            \n",
    "        else:\n",
    "            positive = None\n",
    "            negative = None\n",
    "\n",
    "        # Creo los datasets de entrenamiento y validación.\n",
    "        # si el MODEL_NAME empieza por Roberta, uso el tokenizer de Roberta, si no, uso el de Bert\n",
    "        if MODEL_NAME.startswith(\"Roberta\"):\n",
    "            train_en_dataset = RobertaDataset(X_train_fold, y_train_fold)\n",
    "            val_en_dataset = RobertaDataset(X_val_fold, y_val_fold)\n",
    "        elif MODEL_NAME.startswith(\"Bert\"):\n",
    "            train_en_dataset = BertDataset(X_train_fold, y_train_fold)\n",
    "            val_en_dataset = BertDataset(X_val_fold, y_val_fold)\n",
    "        \n",
    "        # Create the train dataloader with a random oversampling of the minority class\n",
    "        if \"Oversampling\" in DATA_AUGMENTATION:\n",
    "            # Oversampling Train Dataloader\n",
    "            labels = [sample[2] for sample in train_en_dataset]\n",
    "            class_counts = torch.bincount(torch.tensor(labels))\n",
    "            class_weights = 1.0 / class_counts.float()\n",
    "\n",
    "            weights = [class_weights[label] for label in labels]\n",
    "            sampler = WeightedRandomSampler(weights=weights, num_samples=len(train_en_dataset), replacement=True)\n",
    "            train_en_dataloader = DataLoader(train_en_dataset, sampler=sampler, batch_size=BATCH_SIZE)\n",
    "            print(f\"Oversampling\")\n",
    "        else:\n",
    "            print(f\"No Oversampling\")\n",
    "            train_en_dataloader = DataLoader(train_en_dataset, batch_size=BATCH_SIZE, shuffle=True)\n",
    "            \n",
    "        val_en_dataloader = DataLoader(val_en_dataset, batch_size=BATCH_SIZE, shuffle=False)\n",
    "        \n",
    "        # Instanciamos el modelo cuya clase viene dada por la variable MODEL_NAME\n",
    "        # Obtén la referencia a la clase del módulo models\n",
    "        ModelClass = getattr(models, MODEL_NAME)\n",
    "        model = ModelClass(dropout_prob=HEAD_DROPOUT)\n",
    "        \n",
    "        device = torch.device(f\"cuda:{cuda_device}\" if torch.cuda.is_available() else \"cpu\")\n",
    "        print(device)\n",
    "        model.to(device)\n",
    "        \n",
    "        # Paralelizamos el modelo si hay mas de una GPU\n",
    "        if torch.cuda.device_count() > 2:\n",
    "            model = nn.DataParallel(model, device_ids=[1, 2])\n",
    "            model.to(device)\n",
    "            \n",
    "        # Define your loss function (binary cross-entropy in this case)\n",
    "        criterion = nn.BCELoss()\n",
    "          \n",
    "        # Activamos todas las capas\n",
    "        for param in model.parameters():\n",
    "            param.requires_grad = True\n",
    "        \n",
    "        # Contmaos los parametros entrenables\n",
    "        print(f\"total params: {sum(p.numel() for p in model.parameters())} trainble params: {sum(p.numel() for p in model.parameters() if p.requires_grad)}\")\n",
    "        \n",
    "\n",
    "        # Define your optimizer\n",
    "        optimizer = AdamW(model.parameters(), lr=LEARNING_RATE)\n",
    "        \n",
    "        # Define your learning rate scheduler\n",
    "        total_steps = len(train_en_dataloader) * NUM_EPOCHS\n",
    "        warmup_steps = int(total_steps * 0.1)\n",
    "        scheduler = get_linear_schedule_with_warmup(optimizer, num_warmup_steps=warmup_steps, num_training_steps=total_steps)\n",
    "        \n",
    "        # debug pytorch version of contrastive loss\n",
    "        # from utils import test_contrastive_loss\n",
    "        #test_contrastive_loss(model, train_en_dataloader, temperature, lam, device)\n",
    "\n",
    "        # Train the model\n",
    "        train_loop(model, train_en_dataloader, test_en_dataloader, positive, negative, optimizer, scheduler, NUM_EPOCHS, temperature, lam, DECAY, LOSS_FN, device, SWAP, ALFA, EVALUATE_FREQ)\n",
    "\n",
    "        # Evaluate the model\n",
    "        _, validation_mcc = evaluate(model, val_en_dataloader, 0.5, device, val_or_test=\"Val\")\n",
    "        pred, test_mcc = evaluate(model, test_en_dataloader, 0.5, device, val_or_test=\"Test\")\n",
    "        k_test_outputs += [pred]\n",
    "        \n",
    "        # Save the model\n",
    "        torch.save(model.state_dict(), f\"/home/inaki/host_data/checkpoints/{checkoint_folder}/{GROUP}_exp-{i}_fold_{fold_idx}_Val-MCC_{validation_mcc}.pth\")\n",
    "    evaluate_kfold_ensemble(k_test_outputs, test_en_dataloader)\n",
    "        \n",
    "    # bB - Finalizamos el experimento\n",
    "    wandb.finish()"
   ]
  },
  {
   "cell_type": "code",
   "execution_count": null,
   "metadata": {},
   "outputs": [
    {
     "name": "stderr",
     "output_type": "stream",
     "text": [
      "/usr/local/lib/python3.10/dist-packages/torch/_utils.py:776: UserWarning: TypedStorage is deprecated. It will be removed in the future and UntypedStorage will be the only storage class. This should only matter to you if you are using storages directly.  To access UntypedStorage directly, use tensor.untyped_storage() instead of tensor.storage()\n",
      "  return self.fget.__get__(instance, owner)()\n"
     ]
    },
    {
     "ename": "RuntimeError",
     "evalue": "Attempting to deserialize object on a CUDA device but torch.cuda.is_available() is False. If you are running on a CPU-only machine, please use torch.load with map_location=torch.device('cpu') to map your storages to the CPU.",
     "output_type": "error",
     "traceback": [
      "\u001b[0;31m---------------------------------------------------------------------------\u001b[0m",
      "\u001b[0;31mRuntimeError\u001b[0m                              Traceback (most recent call last)",
      "Cell \u001b[0;32mIn[7], line 15\u001b[0m\n\u001b[1;32m     12\u001b[0m model \u001b[38;5;241m=\u001b[39m ModelClass(dropout_prob\u001b[38;5;241m=\u001b[39mHEAD_DROPOUT)\n\u001b[1;32m     13\u001b[0m \u001b[38;5;66;03m# Load the saved state dictionary into the initialized model\u001b[39;00m\n\u001b[0;32m---> 15\u001b[0m state_dict \u001b[38;5;241m=\u001b[39m \u001b[43mtorch\u001b[49m\u001b[38;5;241;43m.\u001b[39;49m\u001b[43mload\u001b[49m\u001b[43m(\u001b[49m\u001b[38;5;124;43m'\u001b[39;49m\u001b[38;5;124;43m/home/inaki/host_data/checkpoints/Ensemble_baseline/\u001b[39;49m\u001b[38;5;124;43m'\u001b[39;49m\u001b[43m \u001b[49m\u001b[38;5;241;43m+\u001b[39;49m\u001b[43m \u001b[49m\u001b[43mmodel_path\u001b[49m\u001b[43m)\u001b[49m\n\u001b[1;32m     16\u001b[0m \u001b[38;5;66;03m# Remove the 'module.' prefix from keys if present (esto es por ser un modelo paralelizado)\u001b[39;00m\n\u001b[1;32m     17\u001b[0m \u001b[38;5;28;01mif\u001b[39;00m \u001b[38;5;124m'\u001b[39m\u001b[38;5;124mmodule.\u001b[39m\u001b[38;5;124m'\u001b[39m \u001b[38;5;129;01min\u001b[39;00m \u001b[38;5;28mlist\u001b[39m(state_dict\u001b[38;5;241m.\u001b[39mkeys())[\u001b[38;5;241m0\u001b[39m]:\n",
      "File \u001b[0;32m/usr/local/lib/python3.10/dist-packages/torch/serialization.py:809\u001b[0m, in \u001b[0;36mload\u001b[0;34m(f, map_location, pickle_module, weights_only, **pickle_load_args)\u001b[0m\n\u001b[1;32m    807\u001b[0m             \u001b[38;5;28;01mexcept\u001b[39;00m \u001b[38;5;167;01mRuntimeError\u001b[39;00m \u001b[38;5;28;01mas\u001b[39;00m e:\n\u001b[1;32m    808\u001b[0m                 \u001b[38;5;28;01mraise\u001b[39;00m pickle\u001b[38;5;241m.\u001b[39mUnpicklingError(UNSAFE_MESSAGE \u001b[38;5;241m+\u001b[39m \u001b[38;5;28mstr\u001b[39m(e)) \u001b[38;5;28;01mfrom\u001b[39;00m \u001b[38;5;28;01mNone\u001b[39;00m\n\u001b[0;32m--> 809\u001b[0m         \u001b[38;5;28;01mreturn\u001b[39;00m \u001b[43m_load\u001b[49m\u001b[43m(\u001b[49m\u001b[43mopened_zipfile\u001b[49m\u001b[43m,\u001b[49m\u001b[43m \u001b[49m\u001b[43mmap_location\u001b[49m\u001b[43m,\u001b[49m\u001b[43m \u001b[49m\u001b[43mpickle_module\u001b[49m\u001b[43m,\u001b[49m\u001b[43m \u001b[49m\u001b[38;5;241;43m*\u001b[39;49m\u001b[38;5;241;43m*\u001b[39;49m\u001b[43mpickle_load_args\u001b[49m\u001b[43m)\u001b[49m\n\u001b[1;32m    810\u001b[0m \u001b[38;5;28;01mif\u001b[39;00m weights_only:\n\u001b[1;32m    811\u001b[0m     \u001b[38;5;28;01mtry\u001b[39;00m:\n",
      "File \u001b[0;32m/usr/local/lib/python3.10/dist-packages/torch/serialization.py:1172\u001b[0m, in \u001b[0;36m_load\u001b[0;34m(zip_file, map_location, pickle_module, pickle_file, **pickle_load_args)\u001b[0m\n\u001b[1;32m   1170\u001b[0m unpickler \u001b[38;5;241m=\u001b[39m UnpicklerWrapper(data_file, \u001b[38;5;241m*\u001b[39m\u001b[38;5;241m*\u001b[39mpickle_load_args)\n\u001b[1;32m   1171\u001b[0m unpickler\u001b[38;5;241m.\u001b[39mpersistent_load \u001b[38;5;241m=\u001b[39m persistent_load\n\u001b[0;32m-> 1172\u001b[0m result \u001b[38;5;241m=\u001b[39m \u001b[43munpickler\u001b[49m\u001b[38;5;241;43m.\u001b[39;49m\u001b[43mload\u001b[49m\u001b[43m(\u001b[49m\u001b[43m)\u001b[49m\n\u001b[1;32m   1174\u001b[0m torch\u001b[38;5;241m.\u001b[39m_utils\u001b[38;5;241m.\u001b[39m_validate_loaded_sparse_tensors()\n\u001b[1;32m   1176\u001b[0m \u001b[38;5;28;01mreturn\u001b[39;00m result\n",
      "File \u001b[0;32m/usr/local/lib/python3.10/dist-packages/torch/serialization.py:1142\u001b[0m, in \u001b[0;36m_load.<locals>.persistent_load\u001b[0;34m(saved_id)\u001b[0m\n\u001b[1;32m   1140\u001b[0m \u001b[38;5;28;01melse\u001b[39;00m:\n\u001b[1;32m   1141\u001b[0m     nbytes \u001b[38;5;241m=\u001b[39m numel \u001b[38;5;241m*\u001b[39m torch\u001b[38;5;241m.\u001b[39m_utils\u001b[38;5;241m.\u001b[39m_element_size(dtype)\n\u001b[0;32m-> 1142\u001b[0m     typed_storage \u001b[38;5;241m=\u001b[39m \u001b[43mload_tensor\u001b[49m\u001b[43m(\u001b[49m\u001b[43mdtype\u001b[49m\u001b[43m,\u001b[49m\u001b[43m \u001b[49m\u001b[43mnbytes\u001b[49m\u001b[43m,\u001b[49m\u001b[43m \u001b[49m\u001b[43mkey\u001b[49m\u001b[43m,\u001b[49m\u001b[43m \u001b[49m\u001b[43m_maybe_decode_ascii\u001b[49m\u001b[43m(\u001b[49m\u001b[43mlocation\u001b[49m\u001b[43m)\u001b[49m\u001b[43m)\u001b[49m\n\u001b[1;32m   1144\u001b[0m \u001b[38;5;28;01mreturn\u001b[39;00m typed_storage\n",
      "File \u001b[0;32m/usr/local/lib/python3.10/dist-packages/torch/serialization.py:1116\u001b[0m, in \u001b[0;36m_load.<locals>.load_tensor\u001b[0;34m(dtype, numel, key, location)\u001b[0m\n\u001b[1;32m   1112\u001b[0m storage \u001b[38;5;241m=\u001b[39m zip_file\u001b[38;5;241m.\u001b[39mget_storage_from_record(name, numel, torch\u001b[38;5;241m.\u001b[39mUntypedStorage)\u001b[38;5;241m.\u001b[39m_typed_storage()\u001b[38;5;241m.\u001b[39m_untyped_storage\n\u001b[1;32m   1113\u001b[0m \u001b[38;5;66;03m# TODO: Once we decide to break serialization FC, we can\u001b[39;00m\n\u001b[1;32m   1114\u001b[0m \u001b[38;5;66;03m# stop wrapping with TypedStorage\u001b[39;00m\n\u001b[1;32m   1115\u001b[0m typed_storage \u001b[38;5;241m=\u001b[39m torch\u001b[38;5;241m.\u001b[39mstorage\u001b[38;5;241m.\u001b[39mTypedStorage(\n\u001b[0;32m-> 1116\u001b[0m     wrap_storage\u001b[38;5;241m=\u001b[39m\u001b[43mrestore_location\u001b[49m\u001b[43m(\u001b[49m\u001b[43mstorage\u001b[49m\u001b[43m,\u001b[49m\u001b[43m \u001b[49m\u001b[43mlocation\u001b[49m\u001b[43m)\u001b[49m,\n\u001b[1;32m   1117\u001b[0m     dtype\u001b[38;5;241m=\u001b[39mdtype,\n\u001b[1;32m   1118\u001b[0m     _internal\u001b[38;5;241m=\u001b[39m\u001b[38;5;28;01mTrue\u001b[39;00m)\n\u001b[1;32m   1120\u001b[0m \u001b[38;5;28;01mif\u001b[39;00m typed_storage\u001b[38;5;241m.\u001b[39m_data_ptr() \u001b[38;5;241m!=\u001b[39m \u001b[38;5;241m0\u001b[39m:\n\u001b[1;32m   1121\u001b[0m     loaded_storages[key] \u001b[38;5;241m=\u001b[39m typed_storage\n",
      "File \u001b[0;32m/usr/local/lib/python3.10/dist-packages/torch/serialization.py:217\u001b[0m, in \u001b[0;36mdefault_restore_location\u001b[0;34m(storage, location)\u001b[0m\n\u001b[1;32m    215\u001b[0m \u001b[38;5;28;01mdef\u001b[39;00m \u001b[38;5;21mdefault_restore_location\u001b[39m(storage, location):\n\u001b[1;32m    216\u001b[0m     \u001b[38;5;28;01mfor\u001b[39;00m _, _, fn \u001b[38;5;129;01min\u001b[39;00m _package_registry:\n\u001b[0;32m--> 217\u001b[0m         result \u001b[38;5;241m=\u001b[39m \u001b[43mfn\u001b[49m\u001b[43m(\u001b[49m\u001b[43mstorage\u001b[49m\u001b[43m,\u001b[49m\u001b[43m \u001b[49m\u001b[43mlocation\u001b[49m\u001b[43m)\u001b[49m\n\u001b[1;32m    218\u001b[0m         \u001b[38;5;28;01mif\u001b[39;00m result \u001b[38;5;129;01mis\u001b[39;00m \u001b[38;5;129;01mnot\u001b[39;00m \u001b[38;5;28;01mNone\u001b[39;00m:\n\u001b[1;32m    219\u001b[0m             \u001b[38;5;28;01mreturn\u001b[39;00m result\n",
      "File \u001b[0;32m/usr/local/lib/python3.10/dist-packages/torch/serialization.py:182\u001b[0m, in \u001b[0;36m_cuda_deserialize\u001b[0;34m(obj, location)\u001b[0m\n\u001b[1;32m    180\u001b[0m \u001b[38;5;28;01mdef\u001b[39;00m \u001b[38;5;21m_cuda_deserialize\u001b[39m(obj, location):\n\u001b[1;32m    181\u001b[0m     \u001b[38;5;28;01mif\u001b[39;00m location\u001b[38;5;241m.\u001b[39mstartswith(\u001b[38;5;124m'\u001b[39m\u001b[38;5;124mcuda\u001b[39m\u001b[38;5;124m'\u001b[39m):\n\u001b[0;32m--> 182\u001b[0m         device \u001b[38;5;241m=\u001b[39m \u001b[43mvalidate_cuda_device\u001b[49m\u001b[43m(\u001b[49m\u001b[43mlocation\u001b[49m\u001b[43m)\u001b[49m\n\u001b[1;32m    183\u001b[0m         \u001b[38;5;28;01mif\u001b[39;00m \u001b[38;5;28mgetattr\u001b[39m(obj, \u001b[38;5;124m\"\u001b[39m\u001b[38;5;124m_torch_load_uninitialized\u001b[39m\u001b[38;5;124m\"\u001b[39m, \u001b[38;5;28;01mFalse\u001b[39;00m):\n\u001b[1;32m    184\u001b[0m             \u001b[38;5;28;01mwith\u001b[39;00m torch\u001b[38;5;241m.\u001b[39mcuda\u001b[38;5;241m.\u001b[39mdevice(device):\n",
      "File \u001b[0;32m/usr/local/lib/python3.10/dist-packages/torch/serialization.py:166\u001b[0m, in \u001b[0;36mvalidate_cuda_device\u001b[0;34m(location)\u001b[0m\n\u001b[1;32m    163\u001b[0m device \u001b[38;5;241m=\u001b[39m torch\u001b[38;5;241m.\u001b[39mcuda\u001b[38;5;241m.\u001b[39m_utils\u001b[38;5;241m.\u001b[39m_get_device_index(location, \u001b[38;5;28;01mTrue\u001b[39;00m)\n\u001b[1;32m    165\u001b[0m \u001b[38;5;28;01mif\u001b[39;00m \u001b[38;5;129;01mnot\u001b[39;00m torch\u001b[38;5;241m.\u001b[39mcuda\u001b[38;5;241m.\u001b[39mis_available():\n\u001b[0;32m--> 166\u001b[0m     \u001b[38;5;28;01mraise\u001b[39;00m \u001b[38;5;167;01mRuntimeError\u001b[39;00m(\u001b[38;5;124m'\u001b[39m\u001b[38;5;124mAttempting to deserialize object on a CUDA \u001b[39m\u001b[38;5;124m'\u001b[39m\n\u001b[1;32m    167\u001b[0m                        \u001b[38;5;124m'\u001b[39m\u001b[38;5;124mdevice but torch.cuda.is_available() is False. \u001b[39m\u001b[38;5;124m'\u001b[39m\n\u001b[1;32m    168\u001b[0m                        \u001b[38;5;124m'\u001b[39m\u001b[38;5;124mIf you are running on a CPU-only machine, \u001b[39m\u001b[38;5;124m'\u001b[39m\n\u001b[1;32m    169\u001b[0m                        \u001b[38;5;124m'\u001b[39m\u001b[38;5;124mplease use torch.load with map_location=torch.device(\u001b[39m\u001b[38;5;130;01m\\'\u001b[39;00m\u001b[38;5;124mcpu\u001b[39m\u001b[38;5;130;01m\\'\u001b[39;00m\u001b[38;5;124m) \u001b[39m\u001b[38;5;124m'\u001b[39m\n\u001b[1;32m    170\u001b[0m                        \u001b[38;5;124m'\u001b[39m\u001b[38;5;124mto map your storages to the CPU.\u001b[39m\u001b[38;5;124m'\u001b[39m)\n\u001b[1;32m    171\u001b[0m device_count \u001b[38;5;241m=\u001b[39m torch\u001b[38;5;241m.\u001b[39mcuda\u001b[38;5;241m.\u001b[39mdevice_count()\n\u001b[1;32m    172\u001b[0m \u001b[38;5;28;01mif\u001b[39;00m device \u001b[38;5;241m>\u001b[39m\u001b[38;5;241m=\u001b[39m device_count:\n",
      "\u001b[0;31mRuntimeError\u001b[0m: Attempting to deserialize object on a CUDA device but torch.cuda.is_available() is False. If you are running on a CPU-only machine, please use torch.load with map_location=torch.device('cpu') to map your storages to the CPU."
     ]
    }
   ],
   "source": [
    "#### Bucle cargando todos los modelos BASELINE\n",
    "baseline_test_outputs = []\n",
    "device = torch.device(f\"cuda:{cuda_device}\" if torch.cuda.is_available() else \"cpu\")\n",
    "\n",
    "# Filtramos los modelos que queremos evaluar\n",
    "modelos = os.listdir(\"/home/inaki/host_data/checkpoints/Ensemble_baseline/\")\n",
    "modelos = [m for m in modelos if m.startswith('BertLargeCovidPooledOutput_0.0_16_2e-05_[]_cross_entropy')]\n",
    "# modelos = [m for m in modelos if m.startswith(GROUP)]\n",
    "\n",
    "for model_path in modelos:\n",
    "    ModelClass = getattr(models, MODEL_NAME)\n",
    "    model = ModelClass(dropout_prob=HEAD_DROPOUT)\n",
    "    # Load the saved state dictionary into the initialized model\n",
    "    \n",
    "    state_dict = torch.load('/home/inaki/host_data/checkpoints/Ensemble_baseline/' + model_path)\n",
    "    # Remove the 'module.' prefix from keys if present (esto es por ser un modelo paralelizado)\n",
    "    if 'module.' in list(state_dict.keys())[0]:\n",
    "        state_dict = {key[7:]: value for key, value in state_dict.items()}\n",
    "    model.load_state_dict(state_dict)\n",
    "\n",
    "    model.to(device)\n",
    "    model.eval()\n",
    "    baseline_test_outputs += [evaluate(model, test_en_dataloader, 0.5, device, val_or_test=\"Test\")]"
   ]
  },
  {
   "cell_type": "code",
   "execution_count": 10,
   "metadata": {},
   "outputs": [
    {
     "data": {
      "text/html": [
       "<div>\n",
       "<style scoped>\n",
       "    .dataframe tbody tr th:only-of-type {\n",
       "        vertical-align: middle;\n",
       "    }\n",
       "\n",
       "    .dataframe tbody tr th {\n",
       "        vertical-align: top;\n",
       "    }\n",
       "\n",
       "    .dataframe thead th {\n",
       "        text-align: right;\n",
       "    }\n",
       "</style>\n",
       "<table border=\"1\" class=\"dataframe\">\n",
       "  <thead>\n",
       "    <tr style=\"text-align: right;\">\n",
       "      <th></th>\n",
       "      <th>mcc</th>\n",
       "      <th>low</th>\n",
       "      <th>up</th>\n",
       "    </tr>\n",
       "  </thead>\n",
       "  <tbody>\n",
       "    <tr>\n",
       "      <th>104</th>\n",
       "      <td>0.878551</td>\n",
       "      <td>0.49</td>\n",
       "      <td>0.55</td>\n",
       "    </tr>\n",
       "    <tr>\n",
       "      <th>105</th>\n",
       "      <td>0.878551</td>\n",
       "      <td>0.49</td>\n",
       "      <td>0.56</td>\n",
       "    </tr>\n",
       "    <tr>\n",
       "      <th>106</th>\n",
       "      <td>0.878551</td>\n",
       "      <td>0.49</td>\n",
       "      <td>0.57</td>\n",
       "    </tr>\n",
       "    <tr>\n",
       "      <th>114</th>\n",
       "      <td>0.878551</td>\n",
       "      <td>0.50</td>\n",
       "      <td>0.54</td>\n",
       "    </tr>\n",
       "    <tr>\n",
       "      <th>113</th>\n",
       "      <td>0.878551</td>\n",
       "      <td>0.50</td>\n",
       "      <td>0.53</td>\n",
       "    </tr>\n",
       "    <tr>\n",
       "      <th>116</th>\n",
       "      <td>0.878551</td>\n",
       "      <td>0.50</td>\n",
       "      <td>0.56</td>\n",
       "    </tr>\n",
       "    <tr>\n",
       "      <th>115</th>\n",
       "      <td>0.878551</td>\n",
       "      <td>0.50</td>\n",
       "      <td>0.55</td>\n",
       "    </tr>\n",
       "    <tr>\n",
       "      <th>117</th>\n",
       "      <td>0.878551</td>\n",
       "      <td>0.50</td>\n",
       "      <td>0.57</td>\n",
       "    </tr>\n",
       "    <tr>\n",
       "      <th>102</th>\n",
       "      <td>0.878551</td>\n",
       "      <td>0.49</td>\n",
       "      <td>0.53</td>\n",
       "    </tr>\n",
       "    <tr>\n",
       "      <th>103</th>\n",
       "      <td>0.878551</td>\n",
       "      <td>0.49</td>\n",
       "      <td>0.54</td>\n",
       "    </tr>\n",
       "    <tr>\n",
       "      <th>112</th>\n",
       "      <td>0.878305</td>\n",
       "      <td>0.50</td>\n",
       "      <td>0.52</td>\n",
       "    </tr>\n",
       "    <tr>\n",
       "      <th>101</th>\n",
       "      <td>0.878305</td>\n",
       "      <td>0.49</td>\n",
       "      <td>0.52</td>\n",
       "    </tr>\n",
       "    <tr>\n",
       "      <th>99</th>\n",
       "      <td>0.878305</td>\n",
       "      <td>0.49</td>\n",
       "      <td>0.50</td>\n",
       "    </tr>\n",
       "    <tr>\n",
       "      <th>100</th>\n",
       "      <td>0.878305</td>\n",
       "      <td>0.49</td>\n",
       "      <td>0.51</td>\n",
       "    </tr>\n",
       "    <tr>\n",
       "      <th>111</th>\n",
       "      <td>0.878305</td>\n",
       "      <td>0.50</td>\n",
       "      <td>0.51</td>\n",
       "    </tr>\n",
       "  </tbody>\n",
       "</table>\n",
       "</div>"
      ],
      "text/plain": [
       "          mcc   low    up\n",
       "104  0.878551  0.49  0.55\n",
       "105  0.878551  0.49  0.56\n",
       "106  0.878551  0.49  0.57\n",
       "114  0.878551  0.50  0.54\n",
       "113  0.878551  0.50  0.53\n",
       "116  0.878551  0.50  0.56\n",
       "115  0.878551  0.50  0.55\n",
       "117  0.878551  0.50  0.57\n",
       "102  0.878551  0.49  0.53\n",
       "103  0.878551  0.49  0.54\n",
       "112  0.878305  0.50  0.52\n",
       "101  0.878305  0.49  0.52\n",
       "99   0.878305  0.49  0.50\n",
       "100  0.878305  0.49  0.51\n",
       "111  0.878305  0.50  0.51"
      ]
     },
     "metadata": {},
     "output_type": "display_data"
    },
    {
     "data": {
      "image/png": "[encoded data removed]",
      "text/plain": [
       "<Figure size 640x480 with 2 Axes>"
      ]
     },
     "metadata": {},
     "output_type": "display_data"
    }
   ],
   "source": [
    "# Evaluamos el valor optimo para el threshold\n",
    "test_true_labels = []\n",
    "for data in test_en_dataloader:\n",
    "    input_ids, attention_mask, labels, _ = data\n",
    "    test_true_labels += labels.tolist()\n",
    "\n",
    "all_mcc = []\n",
    "threshold = []\n",
    "low, up = [], []\n",
    "test_outputs = np.array(baseline_test_outputs)\n",
    "test_outputs = test_outputs.mean(axis=0)\n",
    "for i in range(40, 51):\n",
    "    for j in range(50, 61):\n",
    "        test_mean_predictions = [0 if x < i/100 else (1 if x > j/100 else -1) for x in test_outputs]\n",
    "        mcc = matthews_corrcoef(test_true_labels, test_mean_predictions)\n",
    "        all_mcc += [mcc]\n",
    "        low += [i/100]\n",
    "        up += [j/100]\n",
    "        # create a df with the results and sort by mcc\n",
    "\n",
    "df = pd.DataFrame({'mcc':all_mcc, 'low':low, 'up':up})\n",
    "df = df.sort_values('mcc', ascending=False)\n",
    "# display all df\n",
    "#pd.set_option('display.max_rows', None)\n",
    "display(df.head(15))\n",
    "\n",
    "# plot que representa en los ejes x e y los valores de low y up y en el eje z el mcc\n",
    "plt.scatter(df['low'], df['up'], c=df['mcc'], cmap='viridis')\n",
    "plt.colorbar()\n",
    "plt.show()\n"
   ]
  },
  {
   "cell_type": "code",
   "execution_count": 11,
   "metadata": {},
   "outputs": [
    {
     "name": "stdout",
     "output_type": "stream",
     "text": [
      "test ensemble MCC 0.5 threshold: 0.8783\n"
     ]
    }
   ],
   "source": [
    "evaluate_kfold_ensemble(baseline_test_outputs, test_en_dataloader)"
   ]
  },
  {
   "cell_type": "code",
   "execution_count": 12,
   "metadata": {},
   "outputs": [
    {
     "data": {
      "text/plain": [
       "['BertLargeCovidPooledOutput_0.0_16_2e-05_[]_cross_entropy_exp-4_fold_0.pth',\n",
       " 'BertLargeCovidPooledOutput_0.0_16_2e-05_[]_cross_entropy_exp-5_fold_0.pth',\n",
       " 'BertLargeCovidPooledOutput_0.0_16_2e-05_[]_cross_entropy_exp-5_fold_3.pth',\n",
       " 'BertLargeCovidPooledOutput_0.0_16_2e-05_[]_cross_entropy_exp-9_fold_1.pth',\n",
       " 'BertLargeCovidPooledOutput_0.0_16_2e-05_[]_cross_entropy_exp-1_fold_1.pth',\n",
       " 'BertLargeCovidPooledOutput_0.0_16_2e-05_[]_cross_entropy_exp-2_fold_0.pth',\n",
       " 'BertLargeCovidPooledOutput_0.0_16_2e-05_[]_cross_entropy_exp-6_fold_4.pth',\n",
       " 'BertLargeCovidPooledOutput_0.0_16_2e-05_[]_cross_entropy_exp-8_fold_2.pth',\n",
       " 'BertLargeCovidPooledOutput_0.0_16_2e-05_[]_cross_entropy_exp-1_fold_0.pth',\n",
       " 'BertLargeCovidPooledOutput_0.0_16_2e-05_[]_cross_entropy_exp-6_fold_3.pth',\n",
       " 'BertLargeCovidPooledOutput_0.0_16_2e-05_[]_cross_entropy_exp-6_fold_1.pth',\n",
       " 'BertLargeCovidPooledOutput_0.0_16_2e-05_[]_cross_entropy_exp-8_fold_3.pth',\n",
       " 'BertLargeCovidPooledOutput_0.0_16_2e-05_[]_cross_entropy_exp-5_fold_1.pth',\n",
       " 'BertLargeCovidPooledOutput_0.0_16_2e-05_[]_cross_entropy_exp-6_fold_2.pth',\n",
       " 'BertLargeCovidPooledOutput_0.0_16_2e-05_[]_cross_entropy_exp-0_fold_1.pth',\n",
       " 'BertLargeCovidPooledOutput_0.0_16_2e-05_[]_cross_entropy_exp-0_fold_4.pth',\n",
       " 'BertLargeCovidPooledOutput_0.0_16_2e-05_[]_cross_entropy_exp-3_fold_1.pth',\n",
       " 'BertLargeCovidPooledOutput_0.0_16_2e-05_[]_cross_entropy_exp-0_fold_0.pth',\n",
       " 'BertLargeCovidPooledOutput_0.0_16_2e-05_[]_cross_entropy_exp-5_fold_4.pth',\n",
       " 'BertLargeCovidPooledOutput_0.0_16_2e-05_[]_cross_entropy_exp-9_fold_2.pth',\n",
       " 'BertLargeCovidPooledOutput_0.0_16_2e-05_[]_cross_entropy_exp-7_fold_0.pth',\n",
       " 'BertLargeCovidPooledOutput_0.0_16_2e-05_[]_cross_entropy_exp-7_fold_4.pth',\n",
       " 'BertLargeCovidPooledOutput_0.0_16_2e-05_[]_cross_entropy_exp-9_fold_4.pth',\n",
       " 'BertLargeCovidPooledOutput_0.0_16_2e-05_[]_cross_entropy_exp-0_fold_3.pth',\n",
       " 'BertLargeCovidPooledOutput_0.0_16_2e-05_[]_cross_entropy_exp-7_fold_3.pth',\n",
       " 'BertLargeCovidPooledOutput_0.0_16_2e-05_[]_cross_entropy_exp-9_fold_3.pth',\n",
       " 'BertLargeCovidPooledOutput_0.0_16_2e-05_[]_cross_entropy_exp-2_fold_1.pth',\n",
       " 'BertLargeCovidPooledOutput_0.0_16_2e-05_[]_cross_entropy_exp-8_fold_1.pth',\n",
       " 'BertLargeCovidPooledOutput_0.0_16_2e-05_[]_cross_entropy_exp-7_fold_2.pth',\n",
       " 'BertLargeCovidPooledOutput_0.0_16_2e-05_[]_cross_entropy_exp-1_fold_2.pth',\n",
       " 'BertLargeCovidPooledOutput_0.0_16_2e-05_[]_cross_entropy_exp-3_fold_3.pth',\n",
       " 'BertLargeCovidPooledOutput_0.0_16_2e-05_[]_cross_entropy_exp-8_fold_4.pth',\n",
       " 'BertLargeCovidPooledOutput_0.0_16_2e-05_[]_cross_entropy_exp-0_fold_2.pth',\n",
       " 'BertLargeCovidPooledOutput_0.0_16_2e-05_[]_cross_entropy_exp-3_fold_0.pth',\n",
       " 'BertLargeCovidPooledOutput_0.0_16_2e-05_[]_cross_entropy_exp-2_fold_3.pth',\n",
       " 'BertLargeCovidPooledOutput_0.0_16_2e-05_[]_cross_entropy_exp-2_fold_2.pth',\n",
       " 'BertLargeCovidPooledOutput_0.0_16_2e-05_[]_cross_entropy_exp-4_fold_2.pth',\n",
       " 'BertLargeCovidPooledOutput_0.0_16_2e-05_[]_cross_entropy_exp-1_fold_3.pth',\n",
       " 'BertLargeCovidPooledOutput_0.0_16_2e-05_[]_cross_entropy_exp-3_fold_4.pth',\n",
       " 'BertLargeCovidPooledOutput_0.0_16_2e-05_[]_cross_entropy_exp-2_fold_4.pth',\n",
       " 'BertLargeCovidPooledOutput_0.0_16_2e-05_[]_cross_entropy_exp-3_fold_2.pth',\n",
       " 'BertLargeCovidPooledOutput_0.0_16_2e-05_[]_cross_entropy_exp-4_fold_4.pth',\n",
       " 'BertLargeCovidPooledOutput_0.0_16_2e-05_[]_cross_entropy_exp-1_fold_4.pth',\n",
       " 'BertLargeCovidPooledOutput_0.0_16_2e-05_[]_cross_entropy_exp-4_fold_3.pth',\n",
       " 'BertLargeCovidPooledOutput_0.0_16_2e-05_[]_cross_entropy_exp-5_fold_2.pth',\n",
       " 'BertLargeCovidPooledOutput_0.0_16_2e-05_[]_cross_entropy_exp-7_fold_1.pth',\n",
       " 'BertLargeCovidPooledOutput_0.0_16_2e-05_[]_cross_entropy_exp-9_fold_0.pth',\n",
       " 'BertLargeCovidPooledOutput_0.0_16_2e-05_[]_cross_entropy_exp-6_fold_0.pth',\n",
       " 'BertLargeCovidPooledOutput_0.0_16_2e-05_[]_cross_entropy_exp-4_fold_1.pth',\n",
       " 'BertLargeCovidPooledOutput_0.0_16_2e-05_[]_cross_entropy_exp-8_fold_0.pth']"
      ]
     },
     "execution_count": 12,
     "metadata": {},
     "output_type": "execute_result"
    }
   ],
   "source": [
    "# Seleccion de los modelos que superan al % de SELECTION en validacion\n",
    "l = [float(m.split(\"_\")[-1][:-4]) for m in modelos]\n",
    "\n",
    "# ordenamos de menor a mayor en una nueva lista\n",
    "l_sorted = sorted(l)\n",
    "threshold = l_sorted[int(len(l_sorted)*SELECTION)]\n",
    "indices = [i for i, x in enumerate(l) if x > threshold]\n",
    "\n",
    "# Filtramos los outpouts de los modelos que queremos ensamblar\n",
    "test_outputs = np.array(baseline_test_outputs)\n",
    "test_outputs = test_outputs[indices]\n",
    "\n",
    "print(f\"Antes de la seleccion del top {SELECTION} en validacion:\")\n",
    "evaluate_kfold_ensemble(baseline_test_outputs, test_en_dataloader)\n",
    "print(\"Despues:\")\n",
    "evaluate_kfold_ensemble(test_outputs, test_en_dataloader)"
   ]
  },
  {
   "cell_type": "code",
   "execution_count": null,
   "metadata": {},
   "outputs": [
    {
     "data": {
      "text/html": [
       "<script>Jupyter.notebook.kernel.restart()</script>"
      ]
     },
     "metadata": {},
     "output_type": "display_data"
    }
   ],
   "source": [
    "from IPython.display import display_html\n",
    "display_html(\"<script>Jupyter.notebook.kernel.restart()</script>\", raw=True)"
   ]
  }
 ],
 "metadata": {
  "kaggle": {
   "accelerator": "none",
   "dataSources": [
    {
     "datasetId": 4579360,
     "sourceId": 7862518,
     "sourceType": "datasetVersion"
    }
   ],
   "dockerImageVersionId": 30664,
   "isGpuEnabled": false,
   "isInternetEnabled": true,
   "language": "python",
   "sourceType": "notebook"
  },
  "kernelspec": {
   "display_name": "Python 3 (ipykernel)",
   "language": "python",
   "name": "python3"
  },
  "language_info": {
   "codemirror_mode": {
    "name": "ipython",
    "version": 3
   },
   "file_extension": ".py",
   "mimetype": "text/x-python",
   "name": "python",
   "nbconvert_exporter": "python",
   "pygments_lexer": "ipython3",
   "version": "3.10.12"
  }
 },
 "nbformat": 4,
 "nbformat_minor": 4
}
